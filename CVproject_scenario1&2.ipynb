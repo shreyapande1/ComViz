{
  "cells": [
    {
      "cell_type": "markdown",
      "metadata": {
        "id": "view-in-github",
        "colab_type": "text"
      },
      "source": [
        "<a href=\"https://colab.research.google.com/github/shreyapande1/ComViz/blob/main/CVproject_scenario1%262.ipynb\" target=\"_parent\"><img src=\"https://colab.research.google.com/assets/colab-badge.svg\" alt=\"Open In Colab\"/></a>"
      ]
    },
    {
      "cell_type": "markdown",
      "source": [
        "### **IE6600 19905 (Computation and Visualization) Project**"
      ],
      "metadata": {
        "id": "paZry5zSplHg"
      }
    },
    {
      "cell_type": "markdown",
      "metadata": {
        "id": "1gYdQORyJqIX"
      },
      "source": [
        "\n",
        "\n",
        "### **> Cancer Prediction and Insights**\n"
      ]
    },
    {
      "cell_type": "markdown",
      "metadata": {
        "id": "Q6-31RfrJBew"
      },
      "source": [
        "Shreya Pande – NUID: 002722260\n",
        "\n",
        "Amit Pandit - NUID: 00265692"
      ]
    },
    {
      "cell_type": "code",
      "execution_count": 1,
      "metadata": {
        "id": "1-aKH07SI5y5"
      },
      "outputs": [],
      "source": [
        "# Importing required libraries \n",
        "\n",
        "import pandas as pd\n",
        "import requests\n",
        "import numpy as np\n",
        "import os\n",
        "import matplotlib.pyplot as plt\n",
        "import seaborn as sns"
      ]
    },
    {
      "cell_type": "code",
      "execution_count": 2,
      "metadata": {
        "id": "2syft-NPKqje"
      },
      "outputs": [],
      "source": [
        "# Cancer by gender\n",
        "# Cancer by race\n",
        "# Cancer by age"
      ]
    },
    {
      "cell_type": "markdown",
      "source": [
        "**Data** **Extraction & Data Loading**"
      ],
      "metadata": {
        "id": "uEgWHA0ppWr-"
      }
    },
    {
      "cell_type": "code",
      "source": [
        "# Cancer data extraction in google colab\n",
        "\n",
        "url0 = 'https://raw.githubusercontent.com/shreyapande1/ComViz/main/cv_sc1_age.csv'\n",
        "cdc_cancer_age_data_df_initial = pd.read_csv(url0)\n",
        "\n",
        "url1 = 'https://raw.githubusercontent.com/shreyapande1/ComViz/main/cv_sc1_ethinicity_gender.csv'\n",
        "cdc_cancer_ethigndr_data_df_initial = pd.read_csv(url1)\n",
        "\n",
        "url2 = 'https://raw.githubusercontent.com/shreyapande1/ComViz/main/HPVMap.csv'\n",
        "cdc_cancer_hpv_df_initial = pd.read_csv(url2)\n",
        "\n",
        "url3 = 'https://raw.githubusercontent.com/shreyapande1/ComViz/main/habitsmapping.csv'\n",
        "cdc_cancer_habitsmpng_df_initial = pd.read_csv(url3)"
      ],
      "metadata": {
        "id": "X8EwOiPL0NO9"
      },
      "execution_count": 3,
      "outputs": []
    },
    {
      "cell_type": "markdown",
      "source": [
        "**Data** **Wrangling**"
      ],
      "metadata": {
        "id": "m1V8RBUnpK7a"
      }
    },
    {
      "cell_type": "code",
      "source": [
        "# Cancer age data\n",
        "\n",
        "cdc_cancer_age_data_df_initial\n",
        "\n",
        "cdc_cancer_age_data_df_initial.loc[cdc_cancer_age_data_df_initial['Age_Specific Rate']  == 'Data Suppressed' , 'Age_Specific Rate'] = -0.001\n",
        "\n",
        "cdc_cancer_age_data_df_initial.loc[cdc_cancer_age_data_df_initial['Case_Count']  == 'Data Suppressed' , 'Case_Count'] = -0.001\n",
        "\n",
        "cdc_cancer_age_data_df = cdc_cancer_age_data_df_initial.copy()\n",
        "\n",
        "cdc_cancer_age_data_df['Age_Specific Rate'] = cdc_cancer_age_data_df['Age_Specific Rate'].astype('float16')\n",
        "\n",
        "cdc_cancer_age_data_df = cdc_cancer_age_data_df[cdc_cancer_age_data_df['Age_Specific Rate'] > 0] \n",
        "\n",
        "cdc_cancer_age_data_df = cdc_cancer_age_data_df.rename({'Age_Specific Rate': 'Rate'}, axis=1)\n",
        "\n",
        "cdc_cancer_age_data_df = cdc_cancer_age_data_df.rename({'Age_Group (years)': 'Age_Group'}, axis=1)\n",
        "\n",
        "#cdc_cancer_age_data_df['Rate_check'] = cdc_cancer_age_data_df['Case_Count']/cdc_cancer_age_data_df['Population']\n",
        "\n",
        "cdc_cancer_age_data_df['Population(mn)'] = round(cdc_cancer_age_data_df['Population']/1000000,2)\n",
        "\n",
        "cdc_cancer_age_data_df = cdc_cancer_age_data_df[[\"Cancer Type\", \"Year\", \"Age_Group\", \"Rate\", \"Case_Count\", \"Population(mn)\"]].drop_duplicates()"
      ],
      "metadata": {
        "id": "r8CfOPbX0NUV"
      },
      "execution_count": 4,
      "outputs": []
    },
    {
      "cell_type": "markdown",
      "source": [
        "\n",
        "Age wise cancer rate data"
      ],
      "metadata": {
        "id": "8Hs9JAxDsF42"
      }
    },
    {
      "cell_type": "code",
      "source": [
        "cdc_cancer_age_data_df.head(2)"
      ],
      "metadata": {
        "colab": {
          "base_uri": "https://localhost:8080/",
          "height": 112
        },
        "id": "HYTmgrLisLhV",
        "outputId": "6de9a2a9-5d5c-4e24-8b7f-092091eb2a42"
      },
      "execution_count": 5,
      "outputs": [
        {
          "output_type": "execute_result",
          "data": {
            "text/plain": [
              "           Cancer Type  Year Age_Group       Rate Case_Count  Population(mn)\n",
              "0  All Types of Cancer  2019        <1  25.796875        961            3.73\n",
              "1  All Types of Cancer  2019       1-4  20.796875       3260           15.66"
            ],
            "text/html": [
              "\n",
              "  <div id=\"df-869fa5fa-f266-4f5e-8b31-4d24c995045c\">\n",
              "    <div class=\"colab-df-container\">\n",
              "      <div>\n",
              "<style scoped>\n",
              "    .dataframe tbody tr th:only-of-type {\n",
              "        vertical-align: middle;\n",
              "    }\n",
              "\n",
              "    .dataframe tbody tr th {\n",
              "        vertical-align: top;\n",
              "    }\n",
              "\n",
              "    .dataframe thead th {\n",
              "        text-align: right;\n",
              "    }\n",
              "</style>\n",
              "<table border=\"1\" class=\"dataframe\">\n",
              "  <thead>\n",
              "    <tr style=\"text-align: right;\">\n",
              "      <th></th>\n",
              "      <th>Cancer Type</th>\n",
              "      <th>Year</th>\n",
              "      <th>Age_Group</th>\n",
              "      <th>Rate</th>\n",
              "      <th>Case_Count</th>\n",
              "      <th>Population(mn)</th>\n",
              "    </tr>\n",
              "  </thead>\n",
              "  <tbody>\n",
              "    <tr>\n",
              "      <th>0</th>\n",
              "      <td>All Types of Cancer</td>\n",
              "      <td>2019</td>\n",
              "      <td>&lt;1</td>\n",
              "      <td>25.796875</td>\n",
              "      <td>961</td>\n",
              "      <td>3.73</td>\n",
              "    </tr>\n",
              "    <tr>\n",
              "      <th>1</th>\n",
              "      <td>All Types of Cancer</td>\n",
              "      <td>2019</td>\n",
              "      <td>1-4</td>\n",
              "      <td>20.796875</td>\n",
              "      <td>3260</td>\n",
              "      <td>15.66</td>\n",
              "    </tr>\n",
              "  </tbody>\n",
              "</table>\n",
              "</div>\n",
              "      <button class=\"colab-df-convert\" onclick=\"convertToInteractive('df-869fa5fa-f266-4f5e-8b31-4d24c995045c')\"\n",
              "              title=\"Convert this dataframe to an interactive table.\"\n",
              "              style=\"display:none;\">\n",
              "        \n",
              "  <svg xmlns=\"http://www.w3.org/2000/svg\" height=\"24px\"viewBox=\"0 0 24 24\"\n",
              "       width=\"24px\">\n",
              "    <path d=\"M0 0h24v24H0V0z\" fill=\"none\"/>\n",
              "    <path d=\"M18.56 5.44l.94 2.06.94-2.06 2.06-.94-2.06-.94-.94-2.06-.94 2.06-2.06.94zm-11 1L8.5 8.5l.94-2.06 2.06-.94-2.06-.94L8.5 2.5l-.94 2.06-2.06.94zm10 10l.94 2.06.94-2.06 2.06-.94-2.06-.94-.94-2.06-.94 2.06-2.06.94z\"/><path d=\"M17.41 7.96l-1.37-1.37c-.4-.4-.92-.59-1.43-.59-.52 0-1.04.2-1.43.59L10.3 9.45l-7.72 7.72c-.78.78-.78 2.05 0 2.83L4 21.41c.39.39.9.59 1.41.59.51 0 1.02-.2 1.41-.59l7.78-7.78 2.81-2.81c.8-.78.8-2.07 0-2.86zM5.41 20L4 18.59l7.72-7.72 1.47 1.35L5.41 20z\"/>\n",
              "  </svg>\n",
              "      </button>\n",
              "      \n",
              "  <style>\n",
              "    .colab-df-container {\n",
              "      display:flex;\n",
              "      flex-wrap:wrap;\n",
              "      gap: 12px;\n",
              "    }\n",
              "\n",
              "    .colab-df-convert {\n",
              "      background-color: #E8F0FE;\n",
              "      border: none;\n",
              "      border-radius: 50%;\n",
              "      cursor: pointer;\n",
              "      display: none;\n",
              "      fill: #1967D2;\n",
              "      height: 32px;\n",
              "      padding: 0 0 0 0;\n",
              "      width: 32px;\n",
              "    }\n",
              "\n",
              "    .colab-df-convert:hover {\n",
              "      background-color: #E2EBFA;\n",
              "      box-shadow: 0px 1px 2px rgba(60, 64, 67, 0.3), 0px 1px 3px 1px rgba(60, 64, 67, 0.15);\n",
              "      fill: #174EA6;\n",
              "    }\n",
              "\n",
              "    [theme=dark] .colab-df-convert {\n",
              "      background-color: #3B4455;\n",
              "      fill: #D2E3FC;\n",
              "    }\n",
              "\n",
              "    [theme=dark] .colab-df-convert:hover {\n",
              "      background-color: #434B5C;\n",
              "      box-shadow: 0px 1px 3px 1px rgba(0, 0, 0, 0.15);\n",
              "      filter: drop-shadow(0px 1px 2px rgba(0, 0, 0, 0.3));\n",
              "      fill: #FFFFFF;\n",
              "    }\n",
              "  </style>\n",
              "\n",
              "      <script>\n",
              "        const buttonEl =\n",
              "          document.querySelector('#df-869fa5fa-f266-4f5e-8b31-4d24c995045c button.colab-df-convert');\n",
              "        buttonEl.style.display =\n",
              "          google.colab.kernel.accessAllowed ? 'block' : 'none';\n",
              "\n",
              "        async function convertToInteractive(key) {\n",
              "          const element = document.querySelector('#df-869fa5fa-f266-4f5e-8b31-4d24c995045c');\n",
              "          const dataTable =\n",
              "            await google.colab.kernel.invokeFunction('convertToInteractive',\n",
              "                                                     [key], {});\n",
              "          if (!dataTable) return;\n",
              "\n",
              "          const docLinkHtml = 'Like what you see? Visit the ' +\n",
              "            '<a target=\"_blank\" href=https://colab.research.google.com/notebooks/data_table.ipynb>data table notebook</a>'\n",
              "            + ' to learn more about interactive tables.';\n",
              "          element.innerHTML = '';\n",
              "          dataTable['output_type'] = 'display_data';\n",
              "          await google.colab.output.renderOutput(dataTable, element);\n",
              "          const docLink = document.createElement('div');\n",
              "          docLink.innerHTML = docLinkHtml;\n",
              "          element.appendChild(docLink);\n",
              "        }\n",
              "      </script>\n",
              "    </div>\n",
              "  </div>\n",
              "  "
            ]
          },
          "metadata": {},
          "execution_count": 5
        }
      ]
    },
    {
      "cell_type": "code",
      "source": [
        "# Cancer ethinicity and gender data\n",
        "\n",
        "cdc_cancer_ethigndr_data_df_initial.loc[cdc_cancer_ethigndr_data_df_initial['Age-Adjusted Rate']  == 'Data Suppressed' , 'Age-Adjusted Rate'] = -0.001\n",
        "\n",
        "\n",
        "cdc_cancer_ethigndr_data = cdc_cancer_ethigndr_data_df_initial.copy()\n",
        "\n",
        "cdc_cancer_ethigndr_data['Age-Adjusted Rate'] = cdc_cancer_ethigndr_data['Age-Adjusted Rate'].astype('float16')\n",
        "\n",
        "cdc_cancer_ethigndr_data = cdc_cancer_ethigndr_data[cdc_cancer_ethigndr_data['Age-Adjusted Rate'] > 0] \n",
        "\n",
        "cdc_cancer_ethigndr_data = cdc_cancer_ethigndr_data.rename({'Age-Adjusted Rate': 'Rate'}, axis=1)\n",
        "\n",
        "cdc_cancer_ethigndr_data = cdc_cancer_ethigndr_data.rename({'Sex': 'Gender'}, axis=1)\n",
        "\n",
        "cdc_cancer_ethigndr_data['Population(mn)'] = round(cdc_cancer_ethigndr_data['Population']/1000000,2)\n",
        "\n",
        "cdc_cancer_ethigndr_data = cdc_cancer_ethigndr_data[[\"Cancer Type\", \"Race\", \"Gender\", \"Year\", \"Rate\", \"Case Count\", \"Population(mn)\"]].drop_duplicates()\n"
      ],
      "metadata": {
        "id": "3DfceFjo0NXJ"
      },
      "execution_count": 6,
      "outputs": []
    },
    {
      "cell_type": "markdown",
      "source": [
        "Cancer Data based on Ethinicity and Race"
      ],
      "metadata": {
        "id": "XRRAlxX7vxra"
      }
    },
    {
      "cell_type": "code",
      "source": [
        "cdc_cancer_ethigndr_data.head(2)"
      ],
      "metadata": {
        "colab": {
          "base_uri": "https://localhost:8080/",
          "height": 112
        },
        "id": "87RerbEAvvkh",
        "outputId": "bce2ea01-bed5-4cbb-9171-90e95bffa35d"
      },
      "execution_count": 7,
      "outputs": [
        {
          "output_type": "execute_result",
          "data": {
            "text/plain": [
              "           Cancer Type      Race  Gender       Year    Rate  Case Count  \\\n",
              "0  All Types of Cancer  Hispanic  Female  2015-2019  345.25      385548   \n",
              "1  All Types of Cancer  Hispanic    Male  2015-2019  372.50      337822   \n",
              "\n",
              "   Population(mn)  \n",
              "0          142.28  \n",
              "1          145.11  "
            ],
            "text/html": [
              "\n",
              "  <div id=\"df-d01baf10-8816-40c0-925c-25e1a4e23668\">\n",
              "    <div class=\"colab-df-container\">\n",
              "      <div>\n",
              "<style scoped>\n",
              "    .dataframe tbody tr th:only-of-type {\n",
              "        vertical-align: middle;\n",
              "    }\n",
              "\n",
              "    .dataframe tbody tr th {\n",
              "        vertical-align: top;\n",
              "    }\n",
              "\n",
              "    .dataframe thead th {\n",
              "        text-align: right;\n",
              "    }\n",
              "</style>\n",
              "<table border=\"1\" class=\"dataframe\">\n",
              "  <thead>\n",
              "    <tr style=\"text-align: right;\">\n",
              "      <th></th>\n",
              "      <th>Cancer Type</th>\n",
              "      <th>Race</th>\n",
              "      <th>Gender</th>\n",
              "      <th>Year</th>\n",
              "      <th>Rate</th>\n",
              "      <th>Case Count</th>\n",
              "      <th>Population(mn)</th>\n",
              "    </tr>\n",
              "  </thead>\n",
              "  <tbody>\n",
              "    <tr>\n",
              "      <th>0</th>\n",
              "      <td>All Types of Cancer</td>\n",
              "      <td>Hispanic</td>\n",
              "      <td>Female</td>\n",
              "      <td>2015-2019</td>\n",
              "      <td>345.25</td>\n",
              "      <td>385548</td>\n",
              "      <td>142.28</td>\n",
              "    </tr>\n",
              "    <tr>\n",
              "      <th>1</th>\n",
              "      <td>All Types of Cancer</td>\n",
              "      <td>Hispanic</td>\n",
              "      <td>Male</td>\n",
              "      <td>2015-2019</td>\n",
              "      <td>372.50</td>\n",
              "      <td>337822</td>\n",
              "      <td>145.11</td>\n",
              "    </tr>\n",
              "  </tbody>\n",
              "</table>\n",
              "</div>\n",
              "      <button class=\"colab-df-convert\" onclick=\"convertToInteractive('df-d01baf10-8816-40c0-925c-25e1a4e23668')\"\n",
              "              title=\"Convert this dataframe to an interactive table.\"\n",
              "              style=\"display:none;\">\n",
              "        \n",
              "  <svg xmlns=\"http://www.w3.org/2000/svg\" height=\"24px\"viewBox=\"0 0 24 24\"\n",
              "       width=\"24px\">\n",
              "    <path d=\"M0 0h24v24H0V0z\" fill=\"none\"/>\n",
              "    <path d=\"M18.56 5.44l.94 2.06.94-2.06 2.06-.94-2.06-.94-.94-2.06-.94 2.06-2.06.94zm-11 1L8.5 8.5l.94-2.06 2.06-.94-2.06-.94L8.5 2.5l-.94 2.06-2.06.94zm10 10l.94 2.06.94-2.06 2.06-.94-2.06-.94-.94-2.06-.94 2.06-2.06.94z\"/><path d=\"M17.41 7.96l-1.37-1.37c-.4-.4-.92-.59-1.43-.59-.52 0-1.04.2-1.43.59L10.3 9.45l-7.72 7.72c-.78.78-.78 2.05 0 2.83L4 21.41c.39.39.9.59 1.41.59.51 0 1.02-.2 1.41-.59l7.78-7.78 2.81-2.81c.8-.78.8-2.07 0-2.86zM5.41 20L4 18.59l7.72-7.72 1.47 1.35L5.41 20z\"/>\n",
              "  </svg>\n",
              "      </button>\n",
              "      \n",
              "  <style>\n",
              "    .colab-df-container {\n",
              "      display:flex;\n",
              "      flex-wrap:wrap;\n",
              "      gap: 12px;\n",
              "    }\n",
              "\n",
              "    .colab-df-convert {\n",
              "      background-color: #E8F0FE;\n",
              "      border: none;\n",
              "      border-radius: 50%;\n",
              "      cursor: pointer;\n",
              "      display: none;\n",
              "      fill: #1967D2;\n",
              "      height: 32px;\n",
              "      padding: 0 0 0 0;\n",
              "      width: 32px;\n",
              "    }\n",
              "\n",
              "    .colab-df-convert:hover {\n",
              "      background-color: #E2EBFA;\n",
              "      box-shadow: 0px 1px 2px rgba(60, 64, 67, 0.3), 0px 1px 3px 1px rgba(60, 64, 67, 0.15);\n",
              "      fill: #174EA6;\n",
              "    }\n",
              "\n",
              "    [theme=dark] .colab-df-convert {\n",
              "      background-color: #3B4455;\n",
              "      fill: #D2E3FC;\n",
              "    }\n",
              "\n",
              "    [theme=dark] .colab-df-convert:hover {\n",
              "      background-color: #434B5C;\n",
              "      box-shadow: 0px 1px 3px 1px rgba(0, 0, 0, 0.15);\n",
              "      filter: drop-shadow(0px 1px 2px rgba(0, 0, 0, 0.3));\n",
              "      fill: #FFFFFF;\n",
              "    }\n",
              "  </style>\n",
              "\n",
              "      <script>\n",
              "        const buttonEl =\n",
              "          document.querySelector('#df-d01baf10-8816-40c0-925c-25e1a4e23668 button.colab-df-convert');\n",
              "        buttonEl.style.display =\n",
              "          google.colab.kernel.accessAllowed ? 'block' : 'none';\n",
              "\n",
              "        async function convertToInteractive(key) {\n",
              "          const element = document.querySelector('#df-d01baf10-8816-40c0-925c-25e1a4e23668');\n",
              "          const dataTable =\n",
              "            await google.colab.kernel.invokeFunction('convertToInteractive',\n",
              "                                                     [key], {});\n",
              "          if (!dataTable) return;\n",
              "\n",
              "          const docLinkHtml = 'Like what you see? Visit the ' +\n",
              "            '<a target=\"_blank\" href=https://colab.research.google.com/notebooks/data_table.ipynb>data table notebook</a>'\n",
              "            + ' to learn more about interactive tables.';\n",
              "          element.innerHTML = '';\n",
              "          dataTable['output_type'] = 'display_data';\n",
              "          await google.colab.output.renderOutput(dataTable, element);\n",
              "          const docLink = document.createElement('div');\n",
              "          docLink.innerHTML = docLinkHtml;\n",
              "          element.appendChild(docLink);\n",
              "        }\n",
              "      </script>\n",
              "    </div>\n",
              "  </div>\n",
              "  "
            ]
          },
          "metadata": {},
          "execution_count": 7
        }
      ]
    },
    {
      "cell_type": "markdown",
      "source": [
        "HPV vaccination coverage"
      ],
      "metadata": {
        "id": "6Yu3zL27wB46"
      }
    },
    {
      "cell_type": "code",
      "source": [
        "cdc_cancer_hpv_df_initial.head(2)"
      ],
      "metadata": {
        "colab": {
          "base_uri": "https://localhost:8080/",
          "height": 112
        },
        "id": "N0cP0sd70NZw",
        "outputId": "91d0f413-5951-4846-f107-84c8ce0220d1"
      },
      "execution_count": 8,
      "outputs": [
        {
          "output_type": "execute_result",
          "data": {
            "text/plain": [
              "        Cancer Type         Area              Sex  \\\n",
              "0  HPV vaccinations  Mississippi  Male and Female   \n",
              "1  HPV vaccinations      Wyoming  Male and Female   \n",
              "\n",
              "   HPV vaccination Coverage (%)  Sample Size  \n",
              "0                          32.7          303  \n",
              "1                          48.0          261  "
            ],
            "text/html": [
              "\n",
              "  <div id=\"df-a4d196b5-fe41-420f-bb3a-1ca00cf09e01\">\n",
              "    <div class=\"colab-df-container\">\n",
              "      <div>\n",
              "<style scoped>\n",
              "    .dataframe tbody tr th:only-of-type {\n",
              "        vertical-align: middle;\n",
              "    }\n",
              "\n",
              "    .dataframe tbody tr th {\n",
              "        vertical-align: top;\n",
              "    }\n",
              "\n",
              "    .dataframe thead th {\n",
              "        text-align: right;\n",
              "    }\n",
              "</style>\n",
              "<table border=\"1\" class=\"dataframe\">\n",
              "  <thead>\n",
              "    <tr style=\"text-align: right;\">\n",
              "      <th></th>\n",
              "      <th>Cancer Type</th>\n",
              "      <th>Area</th>\n",
              "      <th>Sex</th>\n",
              "      <th>HPV vaccination Coverage (%)</th>\n",
              "      <th>Sample Size</th>\n",
              "    </tr>\n",
              "  </thead>\n",
              "  <tbody>\n",
              "    <tr>\n",
              "      <th>0</th>\n",
              "      <td>HPV vaccinations</td>\n",
              "      <td>Mississippi</td>\n",
              "      <td>Male and Female</td>\n",
              "      <td>32.7</td>\n",
              "      <td>303</td>\n",
              "    </tr>\n",
              "    <tr>\n",
              "      <th>1</th>\n",
              "      <td>HPV vaccinations</td>\n",
              "      <td>Wyoming</td>\n",
              "      <td>Male and Female</td>\n",
              "      <td>48.0</td>\n",
              "      <td>261</td>\n",
              "    </tr>\n",
              "  </tbody>\n",
              "</table>\n",
              "</div>\n",
              "      <button class=\"colab-df-convert\" onclick=\"convertToInteractive('df-a4d196b5-fe41-420f-bb3a-1ca00cf09e01')\"\n",
              "              title=\"Convert this dataframe to an interactive table.\"\n",
              "              style=\"display:none;\">\n",
              "        \n",
              "  <svg xmlns=\"http://www.w3.org/2000/svg\" height=\"24px\"viewBox=\"0 0 24 24\"\n",
              "       width=\"24px\">\n",
              "    <path d=\"M0 0h24v24H0V0z\" fill=\"none\"/>\n",
              "    <path d=\"M18.56 5.44l.94 2.06.94-2.06 2.06-.94-2.06-.94-.94-2.06-.94 2.06-2.06.94zm-11 1L8.5 8.5l.94-2.06 2.06-.94-2.06-.94L8.5 2.5l-.94 2.06-2.06.94zm10 10l.94 2.06.94-2.06 2.06-.94-2.06-.94-.94-2.06-.94 2.06-2.06.94z\"/><path d=\"M17.41 7.96l-1.37-1.37c-.4-.4-.92-.59-1.43-.59-.52 0-1.04.2-1.43.59L10.3 9.45l-7.72 7.72c-.78.78-.78 2.05 0 2.83L4 21.41c.39.39.9.59 1.41.59.51 0 1.02-.2 1.41-.59l7.78-7.78 2.81-2.81c.8-.78.8-2.07 0-2.86zM5.41 20L4 18.59l7.72-7.72 1.47 1.35L5.41 20z\"/>\n",
              "  </svg>\n",
              "      </button>\n",
              "      \n",
              "  <style>\n",
              "    .colab-df-container {\n",
              "      display:flex;\n",
              "      flex-wrap:wrap;\n",
              "      gap: 12px;\n",
              "    }\n",
              "\n",
              "    .colab-df-convert {\n",
              "      background-color: #E8F0FE;\n",
              "      border: none;\n",
              "      border-radius: 50%;\n",
              "      cursor: pointer;\n",
              "      display: none;\n",
              "      fill: #1967D2;\n",
              "      height: 32px;\n",
              "      padding: 0 0 0 0;\n",
              "      width: 32px;\n",
              "    }\n",
              "\n",
              "    .colab-df-convert:hover {\n",
              "      background-color: #E2EBFA;\n",
              "      box-shadow: 0px 1px 2px rgba(60, 64, 67, 0.3), 0px 1px 3px 1px rgba(60, 64, 67, 0.15);\n",
              "      fill: #174EA6;\n",
              "    }\n",
              "\n",
              "    [theme=dark] .colab-df-convert {\n",
              "      background-color: #3B4455;\n",
              "      fill: #D2E3FC;\n",
              "    }\n",
              "\n",
              "    [theme=dark] .colab-df-convert:hover {\n",
              "      background-color: #434B5C;\n",
              "      box-shadow: 0px 1px 3px 1px rgba(0, 0, 0, 0.15);\n",
              "      filter: drop-shadow(0px 1px 2px rgba(0, 0, 0, 0.3));\n",
              "      fill: #FFFFFF;\n",
              "    }\n",
              "  </style>\n",
              "\n",
              "      <script>\n",
              "        const buttonEl =\n",
              "          document.querySelector('#df-a4d196b5-fe41-420f-bb3a-1ca00cf09e01 button.colab-df-convert');\n",
              "        buttonEl.style.display =\n",
              "          google.colab.kernel.accessAllowed ? 'block' : 'none';\n",
              "\n",
              "        async function convertToInteractive(key) {\n",
              "          const element = document.querySelector('#df-a4d196b5-fe41-420f-bb3a-1ca00cf09e01');\n",
              "          const dataTable =\n",
              "            await google.colab.kernel.invokeFunction('convertToInteractive',\n",
              "                                                     [key], {});\n",
              "          if (!dataTable) return;\n",
              "\n",
              "          const docLinkHtml = 'Like what you see? Visit the ' +\n",
              "            '<a target=\"_blank\" href=https://colab.research.google.com/notebooks/data_table.ipynb>data table notebook</a>'\n",
              "            + ' to learn more about interactive tables.';\n",
              "          element.innerHTML = '';\n",
              "          dataTable['output_type'] = 'display_data';\n",
              "          await google.colab.output.renderOutput(dataTable, element);\n",
              "          const docLink = document.createElement('div');\n",
              "          docLink.innerHTML = docLinkHtml;\n",
              "          element.appendChild(docLink);\n",
              "        }\n",
              "      </script>\n",
              "    </div>\n",
              "  </div>\n",
              "  "
            ]
          },
          "metadata": {},
          "execution_count": 8
        }
      ]
    },
    {
      "cell_type": "code",
      "source": [
        "# People habits data\n",
        "\n",
        "cdc_cancer_habitsmpng_df_initial\n",
        "\n",
        "cdc_cancer_habitsmpng_df_initial.loc[cdc_cancer_habitsmpng_df_initial['Age-adjusted Prevalence']  == 'Data Suppressed' , 'Age-adjusted Prevalence'] = -0.001\n",
        "\n",
        "cdc_cancer_habitsmpng_df_initial.loc[cdc_cancer_habitsmpng_df_initial['Total Respondents']  == 'Data Suppressed' , 'Total Respondents'] = -0.001\n",
        "\n",
        "cdc_cancer_habitsmpng_df = cdc_cancer_habitsmpng_df_initial.copy()\n",
        "\n",
        "#\n",
        "cdc_cancer_habitsmpng_df['Age-adjusted Prevalence'] = cdc_cancer_habitsmpng_df['Age-adjusted Prevalence'].astype('float16')\n",
        "\n",
        "cdc_cancer_habitsmpng_df = cdc_cancer_habitsmpng_df[cdc_cancer_habitsmpng_df['Age-adjusted Prevalence'] > 0] \n",
        "\n",
        "cdc_cancer_habitsmpng_df = cdc_cancer_habitsmpng_df.rename({'Age-adjusted Prevalence': 'Prevalence %'}, axis=1)\n",
        "\n",
        "cdc_cancer_habitsmpng_df = cdc_cancer_habitsmpng_df.rename({'Sex': 'Gender'}, axis=1)\n",
        "\n",
        "#cdc_cancer_habitsmpng_df['Population(mn)'] = round(cdc_cancer_habitsmpng_df['Population']/1000000,2)\n",
        "\n",
        "#cdc_cancer_ethigndr_data = cdc_cancer_ethigndr_data[[\"Cancer Type\", \"Race\", \"Gender\", \"Year\", \"Rate\", \"Case Count\", \"Population(mn)\"]].drop_duplicates()"
      ],
      "metadata": {
        "id": "Xk08nDv2e2ql"
      },
      "execution_count": 11,
      "outputs": []
    },
    {
      "cell_type": "markdown",
      "source": [
        "Cancer Habits prevelance in United States"
      ],
      "metadata": {
        "id": "VncOhRi8Dxm7"
      }
    },
    {
      "cell_type": "code",
      "source": [
        "cdc_cancer_habitsmpng_df.head(2)"
      ],
      "metadata": {
        "colab": {
          "base_uri": "https://localhost:8080/",
          "height": 112
        },
        "id": "VOjVgVNcDyeo",
        "outputId": "c2994fca-8d71-4ae6-e40a-2d346fb68f5f"
      },
      "execution_count": 12,
      "outputs": [
        {
          "output_type": "execute_result",
          "data": {
            "text/plain": [
              "      State                       Race  Gender  Prevalence %  \\\n",
              "1  Oklahoma  All Races and Ethnicities  Female      7.601562   \n",
              "2      Utah  All Races and Ethnicities  Female      7.800781   \n",
              "\n",
              "  Total Respondents           Habit  \n",
              "1              3045  Binge Drinking  \n",
              "2              5282  Binge Drinking  "
            ],
            "text/html": [
              "\n",
              "  <div id=\"df-06cf11d6-e88a-431f-91e7-b5e3c18eff37\">\n",
              "    <div class=\"colab-df-container\">\n",
              "      <div>\n",
              "<style scoped>\n",
              "    .dataframe tbody tr th:only-of-type {\n",
              "        vertical-align: middle;\n",
              "    }\n",
              "\n",
              "    .dataframe tbody tr th {\n",
              "        vertical-align: top;\n",
              "    }\n",
              "\n",
              "    .dataframe thead th {\n",
              "        text-align: right;\n",
              "    }\n",
              "</style>\n",
              "<table border=\"1\" class=\"dataframe\">\n",
              "  <thead>\n",
              "    <tr style=\"text-align: right;\">\n",
              "      <th></th>\n",
              "      <th>State</th>\n",
              "      <th>Race</th>\n",
              "      <th>Gender</th>\n",
              "      <th>Prevalence %</th>\n",
              "      <th>Total Respondents</th>\n",
              "      <th>Habit</th>\n",
              "    </tr>\n",
              "  </thead>\n",
              "  <tbody>\n",
              "    <tr>\n",
              "      <th>1</th>\n",
              "      <td>Oklahoma</td>\n",
              "      <td>All Races and Ethnicities</td>\n",
              "      <td>Female</td>\n",
              "      <td>7.601562</td>\n",
              "      <td>3045</td>\n",
              "      <td>Binge Drinking</td>\n",
              "    </tr>\n",
              "    <tr>\n",
              "      <th>2</th>\n",
              "      <td>Utah</td>\n",
              "      <td>All Races and Ethnicities</td>\n",
              "      <td>Female</td>\n",
              "      <td>7.800781</td>\n",
              "      <td>5282</td>\n",
              "      <td>Binge Drinking</td>\n",
              "    </tr>\n",
              "  </tbody>\n",
              "</table>\n",
              "</div>\n",
              "      <button class=\"colab-df-convert\" onclick=\"convertToInteractive('df-06cf11d6-e88a-431f-91e7-b5e3c18eff37')\"\n",
              "              title=\"Convert this dataframe to an interactive table.\"\n",
              "              style=\"display:none;\">\n",
              "        \n",
              "  <svg xmlns=\"http://www.w3.org/2000/svg\" height=\"24px\"viewBox=\"0 0 24 24\"\n",
              "       width=\"24px\">\n",
              "    <path d=\"M0 0h24v24H0V0z\" fill=\"none\"/>\n",
              "    <path d=\"M18.56 5.44l.94 2.06.94-2.06 2.06-.94-2.06-.94-.94-2.06-.94 2.06-2.06.94zm-11 1L8.5 8.5l.94-2.06 2.06-.94-2.06-.94L8.5 2.5l-.94 2.06-2.06.94zm10 10l.94 2.06.94-2.06 2.06-.94-2.06-.94-.94-2.06-.94 2.06-2.06.94z\"/><path d=\"M17.41 7.96l-1.37-1.37c-.4-.4-.92-.59-1.43-.59-.52 0-1.04.2-1.43.59L10.3 9.45l-7.72 7.72c-.78.78-.78 2.05 0 2.83L4 21.41c.39.39.9.59 1.41.59.51 0 1.02-.2 1.41-.59l7.78-7.78 2.81-2.81c.8-.78.8-2.07 0-2.86zM5.41 20L4 18.59l7.72-7.72 1.47 1.35L5.41 20z\"/>\n",
              "  </svg>\n",
              "      </button>\n",
              "      \n",
              "  <style>\n",
              "    .colab-df-container {\n",
              "      display:flex;\n",
              "      flex-wrap:wrap;\n",
              "      gap: 12px;\n",
              "    }\n",
              "\n",
              "    .colab-df-convert {\n",
              "      background-color: #E8F0FE;\n",
              "      border: none;\n",
              "      border-radius: 50%;\n",
              "      cursor: pointer;\n",
              "      display: none;\n",
              "      fill: #1967D2;\n",
              "      height: 32px;\n",
              "      padding: 0 0 0 0;\n",
              "      width: 32px;\n",
              "    }\n",
              "\n",
              "    .colab-df-convert:hover {\n",
              "      background-color: #E2EBFA;\n",
              "      box-shadow: 0px 1px 2px rgba(60, 64, 67, 0.3), 0px 1px 3px 1px rgba(60, 64, 67, 0.15);\n",
              "      fill: #174EA6;\n",
              "    }\n",
              "\n",
              "    [theme=dark] .colab-df-convert {\n",
              "      background-color: #3B4455;\n",
              "      fill: #D2E3FC;\n",
              "    }\n",
              "\n",
              "    [theme=dark] .colab-df-convert:hover {\n",
              "      background-color: #434B5C;\n",
              "      box-shadow: 0px 1px 3px 1px rgba(0, 0, 0, 0.15);\n",
              "      filter: drop-shadow(0px 1px 2px rgba(0, 0, 0, 0.3));\n",
              "      fill: #FFFFFF;\n",
              "    }\n",
              "  </style>\n",
              "\n",
              "      <script>\n",
              "        const buttonEl =\n",
              "          document.querySelector('#df-06cf11d6-e88a-431f-91e7-b5e3c18eff37 button.colab-df-convert');\n",
              "        buttonEl.style.display =\n",
              "          google.colab.kernel.accessAllowed ? 'block' : 'none';\n",
              "\n",
              "        async function convertToInteractive(key) {\n",
              "          const element = document.querySelector('#df-06cf11d6-e88a-431f-91e7-b5e3c18eff37');\n",
              "          const dataTable =\n",
              "            await google.colab.kernel.invokeFunction('convertToInteractive',\n",
              "                                                     [key], {});\n",
              "          if (!dataTable) return;\n",
              "\n",
              "          const docLinkHtml = 'Like what you see? Visit the ' +\n",
              "            '<a target=\"_blank\" href=https://colab.research.google.com/notebooks/data_table.ipynb>data table notebook</a>'\n",
              "            + ' to learn more about interactive tables.';\n",
              "          element.innerHTML = '';\n",
              "          dataTable['output_type'] = 'display_data';\n",
              "          await google.colab.output.renderOutput(dataTable, element);\n",
              "          const docLink = document.createElement('div');\n",
              "          docLink.innerHTML = docLinkHtml;\n",
              "          element.appendChild(docLink);\n",
              "        }\n",
              "      </script>\n",
              "    </div>\n",
              "  </div>\n",
              "  "
            ]
          },
          "metadata": {},
          "execution_count": 12
        }
      ]
    },
    {
      "cell_type": "markdown",
      "source": [
        "## **Dash Web App**"
      ],
      "metadata": {
        "id": "iX55kjnyD_vz"
      }
    },
    {
      "cell_type": "code",
      "execution_count": null,
      "metadata": {
        "colab": {
          "base_uri": "https://localhost:8080/"
        },
        "id": "M5ZbH7NaxAIW",
        "outputId": "e70bd1bc-df24-419a-f012-442589a1d9af"
      },
      "outputs": [
        {
          "name": "stdout",
          "output_type": "stream",
          "text": [
            "Looking in indexes: https://pypi.org/simple, https://us-python.pkg.dev/colab-wheels/public/simple/\n",
            "Collecting dash\n",
            "  Downloading dash-2.7.1-py3-none-any.whl (9.9 MB)\n",
            "Collecting dash-core-components==2.0.0\n",
            "  Downloading dash_core_components-2.0.0-py3-none-any.whl (3.8 kB)\n",
            "Collecting dash-table==5.0.0\n",
            "  Downloading dash_table-5.0.0-py3-none-any.whl (3.9 kB)\n",
            "Collecting dash-html-components==2.0.0\n",
            "  Downloading dash_html_components-2.0.0-py3-none-any.whl (4.1 kB)\n",
            "Requirement already satisfied: plotly>=5.0.0 in /usr/local/lib/python3.8/dist-packages (from dash) (5.5.0)\n",
            "Requirement already satisfied: Flask>=1.0.4 in /usr/local/lib/python3.8/dist-packages (from dash) (1.1.4)\n",
            "Requirement already satisfied: Werkzeug<2.0,>=0.15 in /usr/local/lib/python3.8/dist-packages (from Flask>=1.0.4->dash) (1.0.1)\n",
            "Requirement already satisfied: itsdangerous<2.0,>=0.24 in /usr/local/lib/python3.8/dist-packages (from Flask>=1.0.4->dash) (1.1.0)\n",
            "Requirement already satisfied: Jinja2<3.0,>=2.10.1 in /usr/local/lib/python3.8/dist-packages (from Flask>=1.0.4->dash) (2.11.3)\n",
            "Requirement already satisfied: click<8.0,>=5.1 in /usr/local/lib/python3.8/dist-packages (from Flask>=1.0.4->dash) (7.1.2)\n",
            "Requirement already satisfied: MarkupSafe>=0.23 in /usr/local/lib/python3.8/dist-packages (from Jinja2<3.0,>=2.10.1->Flask>=1.0.4->dash) (2.0.1)\n",
            "Requirement already satisfied: six in /usr/local/lib/python3.8/dist-packages (from plotly>=5.0.0->dash) (1.15.0)\n",
            "Requirement already satisfied: tenacity>=6.2.0 in /usr/local/lib/python3.8/dist-packages (from plotly>=5.0.0->dash) (8.1.0)\n",
            "Installing collected packages: dash-table, dash-html-components, dash-core-components, dash\n",
            "Successfully installed dash-2.7.1 dash-core-components-2.0.0 dash-html-components-2.0.0 dash-table-5.0.0\n"
          ]
        }
      ],
      "source": [
        "%%sh\n",
        "pip install dash --upgrade\n",
        "pip install -q dash_core_components\n",
        "pip install -q dash_html_components\n",
        "pip install -q dash_table"
      ]
    },
    {
      "cell_type": "code",
      "execution_count": null,
      "metadata": {
        "colab": {
          "base_uri": "https://localhost:8080/"
        },
        "id": "jbHIErv_xOlP",
        "outputId": "b86f0aee-6cd0-43db-f51c-40a806f0b354"
      },
      "outputs": [
        {
          "name": "stdout",
          "output_type": "stream",
          "text": [
            "Archive:  ngrok-stable-linux-amd64.zip\n",
            "  inflating: ngrok                   \n"
          ]
        },
        {
          "name": "stderr",
          "output_type": "stream",
          "text": [
            "  % Total    % Received % Xferd  Average Speed   Time    Time     Time  Current\n",
            "                                 Dload  Upload   Total   Spent    Left  Speed\n",
            "\r  0     0    0     0    0     0      0      0 --:--:-- --:--:-- --:--:--     0\r  1 13.1M    1  215k    0     0   337k      0  0:00:39 --:--:--  0:00:39  337k\r 16 13.1M   16 2279k    0     0  1397k      0  0:00:09  0:00:01  0:00:08 1396k\r 97 13.1M   97 12.9M    0     0  5037k      0  0:00:02  0:00:02 --:--:-- 5035k\r100 13.1M  100 13.1M    0     0  5124k      0  0:00:02  0:00:02 --:--:-- 5122k\n"
          ]
        }
      ],
      "source": [
        "%%sh\n",
        "# get ngrok\n",
        "curl -O https://bin.equinox.io/c/4VmDzA7iaHb/ngrok-stable-linux-amd64.zip\n",
        "unzip ngrok-stable-linux-amd64.zip"
      ]
    },
    {
      "cell_type": "code",
      "execution_count": null,
      "metadata": {
        "colab": {
          "base_uri": "https://localhost:8080/"
        },
        "id": "JLCocv5pyw1f",
        "outputId": "693f99b0-245e-4951-d3db-e494650afda2"
      },
      "outputs": [
        {
          "name": "stdout",
          "output_type": "stream",
          "text": [
            "Authtoken saved to configuration file: /root/.ngrok2/ngrok.yml\n"
          ]
        }
      ],
      "source": [
        "%%sh\n",
        "./ngrok authtoken 2IscBKUyjA2oCmgSGztQ3Z3worW_6kEpch8jCN9oEdCtYiaKv"
      ]
    },
    {
      "cell_type": "code",
      "execution_count": null,
      "metadata": {
        "id": "5rfhLI2fzSgt",
        "colab": {
          "base_uri": "https://localhost:8080/"
        },
        "outputId": "c76755cb-1845-4106-b5eb-9939ece8917c"
      },
      "outputs": [
        {
          "output_type": "stream",
          "name": "stdout",
          "text": [
            "Writing dash_app.py\n"
          ]
        }
      ],
      "source": [
        "%%writefile dash_app.py\n",
        "\n",
        "from dash import Dash, dcc, html, Input, Output\n",
        "import plotly.express as px\n",
        "\n",
        "import pandas as pd\n",
        "\n",
        "df = pd.read_csv('https://github.com/shreyapande1/ComViz/blob/main/cv_sc1_age.csv')\n",
        "\n",
        "app = Dash(__name__)\n",
        "\n",
        "app.layout = html.Div([\n",
        "    dcc.Graph(id='graph-with-slider'),\n",
        "    dcc.Slider(\n",
        "        df['year'].min(),\n",
        "        df['year'].max(),\n",
        "        step=None,\n",
        "        value=df['year'].min(),\n",
        "        marks={str(year): str(year) for year in df['year'].unique()},\n",
        "        id='year-slider'\n",
        "    )\n",
        "])\n",
        "\n",
        "\n",
        "@app.callback(\n",
        "    Output('graph-with-slider', 'figure'),\n",
        "    Input('year-slider', 'value'))\n",
        "def update_figure(selected_year):\n",
        "    filtered_df = df[df.year == selected_year]\n",
        "\n",
        "    fig = px.scatter(filtered_df, x=\"gdpPercap\", y=\"lifeExp\",\n",
        "                     size=\"pop\", color=\"continent\", hover_name=\"country\",\n",
        "                     log_x=True, size_max=55)\n",
        "\n",
        "    fig.update_layout(transition_duration=500)\n",
        "\n",
        "    return fig\n",
        "\n",
        "\n",
        "if __name__ == '__main__':\n",
        "    app.run_server(debug=True)\n",
        "\n"
      ]
    },
    {
      "cell_type": "code",
      "execution_count": null,
      "metadata": {
        "id": "ElEXU6fj33vb"
      },
      "outputs": [],
      "source": []
    },
    {
      "cell_type": "code",
      "execution_count": null,
      "metadata": {
        "id": "8OhvoIEI33y8"
      },
      "outputs": [],
      "source": []
    },
    {
      "cell_type": "code",
      "execution_count": null,
      "metadata": {
        "id": "H08iBWWZ2n2S"
      },
      "outputs": [],
      "source": [
        "# launch ngrok\n",
        "get_ipython().system_raw('./ngrok http 8050 &')"
      ]
    },
    {
      "cell_type": "code",
      "execution_count": null,
      "metadata": {
        "colab": {
          "base_uri": "https://localhost:8080/"
        },
        "id": "pbN-7iMN2tag",
        "outputId": "7c3299bd-5ce6-458f-c002-02635bac382e"
      },
      "outputs": [
        {
          "name": "stdout",
          "output_type": "stream",
          "text": [
            "https://ce54-35-193-194-165.ngrok.io\n"
          ]
        }
      ],
      "source": [
        "%%sh\n",
        "# get url with ngrok\n",
        "curl -s http://localhost:4040/api/tunnels | python3 -c \"import sys, json; print(json.load(sys.stdin)['tunnels'][0]['public_url'])\""
      ]
    },
    {
      "cell_type": "code",
      "execution_count": null,
      "metadata": {
        "colab": {
          "background_save": true,
          "base_uri": "https://localhost:8080/"
        },
        "id": "8n89bWK_2ywf",
        "outputId": "de323874-af67-41b0-ad96-f34988fc07d8"
      },
      "outputs": [
        {
          "name": "stdout",
          "output_type": "stream",
          "text": [
            "Dash is running on http://127.0.0.1:8050/\n",
            "\n",
            " * Serving Flask app \"dash_app\" (lazy loading)\n",
            " * Environment: production\n",
            "\u001b[31m   WARNING: This is a development server. Do not use it in a production deployment.\u001b[0m\n",
            "\u001b[2m   Use a production WSGI server instead.\u001b[0m\n",
            " * Debug mode: on\n"
          ]
        }
      ],
      "source": [
        "!python dash_app.py"
      ]
    },
    {
      "cell_type": "code",
      "execution_count": null,
      "metadata": {
        "id": "0LslBa1B24aj"
      },
      "outputs": [],
      "source": []
    }
  ],
  "metadata": {
    "colab": {
      "provenance": [],
      "authorship_tag": "ABX9TyP8FEZGY84UOlEQeMa0aYC+",
      "include_colab_link": true
    },
    "kernelspec": {
      "display_name": "Python 3",
      "name": "python3"
    },
    "language_info": {
      "name": "python"
    }
  },
  "nbformat": 4,
  "nbformat_minor": 0
}